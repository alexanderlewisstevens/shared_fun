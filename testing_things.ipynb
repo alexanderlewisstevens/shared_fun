{
 "cells": [
  {
   "cell_type": "code",
   "execution_count": null,
   "id": "80cc6dc2",
   "metadata": {},
   "outputs": [],
   "source": [
    "import numpy as np\n",
    "\n",
    "import matplotlib.pyplot as plt\n",
    "\n",
    "# Generate some random data\n",
    "x = np.linspace(0, 10, 100)\n",
    "y = np.sin(x) + np.random.normal(0, 0.1, 100)\n",
    "\n",
    "# Plot the data\n",
    "plt.scatter(x, y, label='Noisy Sine Wave', color='blue', alpha=0.6)\n",
    "plt.plot(x, np.sin(x), label='True Sine Wave', color='red', linestyle='--')\n",
    "plt.title('Cool Sine Wave Plot')\n",
    "plt.xlabel('X-axis')\n",
    "plt.ylabel('Y-axis')\n",
    "plt.legend()\n",
    "plt.show()"
   ]
  },
  {
   "cell_type": "markdown",
   "id": "310dd499",
   "metadata": {},
   "source": [
    "# Big\n",
    "## medium\n",
    "### small"
   ]
  },
  {
   "cell_type": "code",
   "execution_count": null,
   "id": "aeaa928d",
   "metadata": {},
   "outputs": [],
   "source": [
    "def function(a, b):\n",
    "    return a + b"
   ]
  }
 ],
 "metadata": {
  "kernelspec": {
   "display_name": "Python 3",
   "language": "python",
   "name": "python3"
  },
  "language_info": {
   "codemirror_mode": {
    "name": "ipython",
    "version": 3
   },
   "file_extension": ".py",
   "mimetype": "text/x-python",
   "name": "python",
   "nbconvert_exporter": "python",
   "pygments_lexer": "ipython3",
   "version": "3.12.1"
  }
 },
 "nbformat": 4,
 "nbformat_minor": 5
}
